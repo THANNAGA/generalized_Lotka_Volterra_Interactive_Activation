{
  "nbformat": 4,
  "nbformat_minor": 0,
  "metadata": {
    "colab": {
      "provenance": [],
      "machine_shape": "hm",
      "gpuType": "T4",
      "authorship_tag": "ABX9TyPr+BL7kV2g8O2oe5N0IlUQ",
      "include_colab_link": true
    },
    "kernelspec": {
      "name": "python3",
      "display_name": "Python 3"
    },
    "language_info": {
      "name": "python"
    },
    "accelerator": "GPU"
  },
  "cells": [
    {
      "cell_type": "markdown",
      "metadata": {
        "id": "view-in-github",
        "colab_type": "text"
      },
      "source": [
        "<a href=\"https://colab.research.google.com/github/THANNAGA/generalized_Lotka_Volterra_Interactive_Activation/blob/main/gLIA_words2.ipynb\" target=\"_parent\"><img src=\"https://colab.research.google.com/assets/colab-badge.svg\" alt=\"Open In Colab\"/></a>"
      ]
    },
    {
      "cell_type": "code",
      "source": [
        "!pip install torchdiffeq"
      ],
      "metadata": {
        "colab": {
          "base_uri": "https://localhost:8080/"
        },
        "id": "Dau0CT3MiS3f",
        "outputId": "77e4625f-442f-4a9b-c75a-406955236eb0"
      },
      "execution_count": 819,
      "outputs": [
        {
          "output_type": "stream",
          "name": "stdout",
          "text": [
            "Requirement already satisfied: torchdiffeq in /usr/local/lib/python3.11/dist-packages (0.2.5)\n",
            "Requirement already satisfied: torch>=1.5.0 in /usr/local/lib/python3.11/dist-packages (from torchdiffeq) (2.6.0+cu124)\n",
            "Requirement already satisfied: scipy>=1.4.0 in /usr/local/lib/python3.11/dist-packages (from torchdiffeq) (1.14.1)\n",
            "Requirement already satisfied: numpy<2.3,>=1.23.5 in /usr/local/lib/python3.11/dist-packages (from scipy>=1.4.0->torchdiffeq) (2.0.2)\n",
            "Requirement already satisfied: filelock in /usr/local/lib/python3.11/dist-packages (from torch>=1.5.0->torchdiffeq) (3.18.0)\n",
            "Requirement already satisfied: typing-extensions>=4.10.0 in /usr/local/lib/python3.11/dist-packages (from torch>=1.5.0->torchdiffeq) (4.13.1)\n",
            "Requirement already satisfied: networkx in /usr/local/lib/python3.11/dist-packages (from torch>=1.5.0->torchdiffeq) (3.4.2)\n",
            "Requirement already satisfied: jinja2 in /usr/local/lib/python3.11/dist-packages (from torch>=1.5.0->torchdiffeq) (3.1.6)\n",
            "Requirement already satisfied: fsspec in /usr/local/lib/python3.11/dist-packages (from torch>=1.5.0->torchdiffeq) (2025.3.2)\n",
            "Requirement already satisfied: nvidia-cuda-nvrtc-cu12==12.4.127 in /usr/local/lib/python3.11/dist-packages (from torch>=1.5.0->torchdiffeq) (12.4.127)\n",
            "Requirement already satisfied: nvidia-cuda-runtime-cu12==12.4.127 in /usr/local/lib/python3.11/dist-packages (from torch>=1.5.0->torchdiffeq) (12.4.127)\n",
            "Requirement already satisfied: nvidia-cuda-cupti-cu12==12.4.127 in /usr/local/lib/python3.11/dist-packages (from torch>=1.5.0->torchdiffeq) (12.4.127)\n",
            "Requirement already satisfied: nvidia-cudnn-cu12==9.1.0.70 in /usr/local/lib/python3.11/dist-packages (from torch>=1.5.0->torchdiffeq) (9.1.0.70)\n",
            "Requirement already satisfied: nvidia-cublas-cu12==12.4.5.8 in /usr/local/lib/python3.11/dist-packages (from torch>=1.5.0->torchdiffeq) (12.4.5.8)\n",
            "Requirement already satisfied: nvidia-cufft-cu12==11.2.1.3 in /usr/local/lib/python3.11/dist-packages (from torch>=1.5.0->torchdiffeq) (11.2.1.3)\n",
            "Requirement already satisfied: nvidia-curand-cu12==10.3.5.147 in /usr/local/lib/python3.11/dist-packages (from torch>=1.5.0->torchdiffeq) (10.3.5.147)\n",
            "Requirement already satisfied: nvidia-cusolver-cu12==11.6.1.9 in /usr/local/lib/python3.11/dist-packages (from torch>=1.5.0->torchdiffeq) (11.6.1.9)\n",
            "Requirement already satisfied: nvidia-cusparse-cu12==12.3.1.170 in /usr/local/lib/python3.11/dist-packages (from torch>=1.5.0->torchdiffeq) (12.3.1.170)\n",
            "Requirement already satisfied: nvidia-cusparselt-cu12==0.6.2 in /usr/local/lib/python3.11/dist-packages (from torch>=1.5.0->torchdiffeq) (0.6.2)\n",
            "Requirement already satisfied: nvidia-nccl-cu12==2.21.5 in /usr/local/lib/python3.11/dist-packages (from torch>=1.5.0->torchdiffeq) (2.21.5)\n",
            "Requirement already satisfied: nvidia-nvtx-cu12==12.4.127 in /usr/local/lib/python3.11/dist-packages (from torch>=1.5.0->torchdiffeq) (12.4.127)\n",
            "Requirement already satisfied: nvidia-nvjitlink-cu12==12.4.127 in /usr/local/lib/python3.11/dist-packages (from torch>=1.5.0->torchdiffeq) (12.4.127)\n",
            "Requirement already satisfied: triton==3.2.0 in /usr/local/lib/python3.11/dist-packages (from torch>=1.5.0->torchdiffeq) (3.2.0)\n",
            "Requirement already satisfied: sympy==1.13.1 in /usr/local/lib/python3.11/dist-packages (from torch>=1.5.0->torchdiffeq) (1.13.1)\n",
            "Requirement already satisfied: mpmath<1.4,>=1.1.0 in /usr/local/lib/python3.11/dist-packages (from sympy==1.13.1->torch>=1.5.0->torchdiffeq) (1.3.0)\n",
            "Requirement already satisfied: MarkupSafe>=2.0 in /usr/local/lib/python3.11/dist-packages (from jinja2->torch>=1.5.0->torchdiffeq) (3.0.2)\n"
          ]
        }
      ]
    },
    {
      "cell_type": "markdown",
      "source": [
        "## Dataset"
      ],
      "metadata": {
        "id": "EKBXbob8SBvR"
      }
    },
    {
      "cell_type": "markdown",
      "source": [
        "## Imports and Arguments"
      ],
      "metadata": {
        "id": "Y4dLQmeFm_ZV"
      }
    },
    {
      "cell_type": "code",
      "source": [
        "import os\n",
        "import time\n",
        "import random\n",
        "import numpy as np\n",
        "import torch\n",
        "import torch.nn as nn\n",
        "from torch.utils.data import Dataset, DataLoader, random_split\n",
        "import torchvision.transforms as transforms\n",
        "from PIL import Image, ImageDraw, ImageFont\n",
        "from torchdiffeq import odeint, odeint_adjoint\n",
        "import matplotlib.pyplot as plt\n",
        "from matplotlib.animation import FuncAnimation\n",
        "import matplotlib\n",
        "matplotlib.use('Agg')\n",
        "\n",
        "class Args:\n",
        "    network = 'resnet'\n",
        "    tol = 1e-3\n",
        "    adjoint = False\n",
        "    downsampling_method = 'conv'\n",
        "    nepochs = 20\n",
        "    data_aug = False\n",
        "    num_words = 30\n",
        "    lr = 0.00005 if num_words >100 else 0.0001 #lr = 0.00001 if num_words >100 else 0.0001 #for generic\n",
        "    batch_size = 50\n",
        "    test_batch_size = 25\n",
        "    save = './experiment_synth'\n",
        "    debug = False\n",
        "    gpu = 0\n",
        "    go_neg_def = True\n",
        "\n",
        "args = Args()\n",
        "\n",
        "if args.adjoint:\n",
        "    odeint = odeint_adjoint\n",
        "\n",
        "device = torch.device('cuda:' + str(args.gpu) if torch.cuda.is_available() else 'cpu')\n",
        "print(f\"Using device: {device}\")"
      ],
      "metadata": {
        "colab": {
          "base_uri": "https://localhost:8080/"
        },
        "id": "Or7r2bIyTcB1",
        "outputId": "83b4a9f0-6149-4811-9728-62c654a14410"
      },
      "execution_count": 820,
      "outputs": [
        {
          "output_type": "stream",
          "name": "stdout",
          "text": [
            "Using device: cuda:0\n"
          ]
        }
      ]
    },
    {
      "cell_type": "markdown",
      "source": [
        "## Dataset"
      ],
      "metadata": {
        "id": "UuxW-d-FTdbd"
      }
    },
    {
      "cell_type": "code",
      "source": [
        "# --- Word List (1,000 words) ---\n",
        "full_wordlist = [\n",
        "    \"the\", \"of\", \"to\", \"and\", \"a\", \"in\", \"is\", \"it\", \"you\", \"that\",\n",
        "    \"he\", \"was\", \"for\", \"on\", \"are\", \"with\", \"as\", \"I\", \"his\", \"they\",\n",
        "    \"be\", \"at\", \"one\", \"have\", \"this\", \"from\", \"or\", \"had\", \"by\", \"not\",\n",
        "    \"word\", \"but\", \"what\", \"some\", \"we\", \"can\", \"out\", \"other\", \"were\", \"all\",\n",
        "    \"there\", \"when\", \"up\", \"use\", \"your\", \"how\", \"said\", \"an\", \"each\", \"she\",\n",
        "    \"which\", \"do\", \"their\", \"time\", \"if\", \"will\", \"way\", \"about\", \"many\", \"then\",\n",
        "    \"them\", \"write\", \"would\", \"like\", \"so\", \"these\", \"her\", \"long\", \"make\", \"thing\",\n",
        "    \"see\", \"him\", \"two\", \"has\", \"look\", \"more\", \"day\", \"could\", \"go\", \"come\",\n",
        "    \"did\", \"number\", \"sound\", \"no\", \"most\", \"people\", \"my\", \"over\", \"know\", \"water\",\n",
        "    \"than\", \"call\", \"first\", \"who\", \"may\", \"down\", \"side\", \"been\", \"now\", \"find\",\n",
        "    \"any\", \"new\", \"work\", \"part\", \"take\", \"get\", \"place\", \"made\", \"live\", \"where\",\n",
        "    \"after\", \"back\", \"little\", \"only\", \"round\", \"man\", \"year\", \"came\", \"show\", \"every\",\n",
        "    \"good\", \"me\", \"give\", \"our\", \"under\", \"name\", \"very\", \"through\", \"just\", \"form\",\n",
        "    \"sentence\", \"great\", \"think\", \"say\", \"help\", \"low\", \"line\", \"differ\", \"turn\", \"cause\",\n",
        "    \"much\", \"mean\", \"before\", \"move\", \"right\", \"boy\", \"old\", \"too\", \"same\", \"tell\",\n",
        "    \"does\", \"set\", \"three\", \"want\", \"air\", \"well\", \"also\", \"play\", \"small\", \"end\",\n",
        "    \"put\", \"home\", \"read\", \"hand\", \"port\", \"large\", \"spell\", \"add\", \"even\", \"land\",\n",
        "    \"here\", \"must\", \"big\", \"high\", \"such\", \"follow\", \"act\", \"why\", \"ask\", \"men\",\n",
        "    \"change\", \"went\", \"light\", \"kind\", \"off\", \"need\", \"house\", \"picture\", \"try\", \"us\",\n",
        "    \"again\", \"animal\", \"point\", \"mother\", \"world\", \"near\", \"build\", \"self\", \"earth\", \"father\",\n",
        "    \"head\", \"stand\", \"own\", \"page\", \"should\", \"country\", \"found\", \"answer\", \"school\", \"grow\",\n",
        "    \"study\", \"still\", \"learn\", \"plant\", \"cover\", \"food\", \"sun\", \"four\", \"between\", \"state\",\n",
        "    \"keep\", \"eye\", \"never\", \"last\", \"let\", \"thought\", \"city\", \"tree\", \"cross\", \"farm\",\n",
        "    \"hard\", \"start\", \"might\", \"story\", \"saw\", \"far\", \"sea\", \"draw\", \"left\", \"late\",\n",
        "    \"run\", \"dont\", \"while\", \"press\", \"close\", \"night\", \"real\", \"life\", \"few\", \"north\",\n",
        "    \"open\", \"seem\", \"together\", \"next\", \"white\", \"children\", \"begin\", \"got\", \"walk\", \"example\",\n",
        "    \"ease\", \"paper\", \"group\", \"always\", \"music\", \"those\", \"both\", \"mark\", \"often\", \"letter\",\n",
        "    \"until\", \"mile\", \"river\", \"car\", \"feet\", \"care\", \"second\", \"book\", \"carry\", \"took\",\n",
        "    \"science\", \"eat\", \"room\", \"friend\", \"began\", \"idea\", \"fish\", \"mountain\", \"stop\", \"once\",\n",
        "    \"base\", \"hear\", \"horse\", \"cut\", \"sure\", \"watch\", \"color\", \"face\", \"wood\", \"main\",\n",
        "    \"enough\", \"plain\", \"girl\", \"usual\", \"young\", \"ready\", \"above\", \"ever\", \"red\", \"list\",\n",
        "    \"though\", \"feel\", \"talk\", \"bird\", \"soon\", \"body\", \"dog\", \"family\", \"direct\", \"pose\",\n",
        "    \"leave\", \"song\", \"measure\", \"door\", \"product\", \"black\", \"short\", \"numeral\", \"class\", \"wind\",\n",
        "    \"question\", \"happen\", \"complete\", \"ship\", \"area\", \"half\", \"rock\", \"order\", \"fire\", \"south\",\n",
        "    \"problem\", \"piece\", \"told\", \"knew\", \"pass\", \"since\", \"top\", \"whole\", \"king\", \"space\",\n",
        "    \"heard\", \"best\", \"hour\", \"better\", \"true\", \"during\", \"hundred\", \"five\", \"remember\", \"step\",\n",
        "    \"early\", \"hold\", \"west\", \"ground\", \"interest\", \"reach\", \"fast\", \"verb\", \"sing\", \"listen\",\n",
        "    \"six\", \"table\", \"travel\", \"less\", \"morning\", \"ten\", \"simple\", \"several\", \"vowel\", \"toward\",\n",
        "    \"war\", \"lay\", \"against\", \"pattern\", \"slow\", \"center\", \"love\", \"person\", \"money\", \"serve\",\n",
        "    \"appear\", \"road\", \"map\", \"rain\", \"rule\", \"govern\", \"pull\", \"cold\", \"notice\", \"voice\",\n",
        "    \"unit\", \"power\", \"town\", \"fine\", \"certain\", \"fly\", \"fall\", \"lead\", \"cry\", \"dark\",\n",
        "    \"machine\", \"note\", \"wait\", \"plan\", \"figure\", \"star\", \"box\", \"noun\", \"field\", \"rest\",\n",
        "    \"correct\", \"able\", \"pound\", \"done\", \"beauty\", \"drive\", \"stood\", \"contain\", \"front\", \"teach\",\n",
        "    \"week\", \"final\", \"gave\", \"green\", \"oh\", \"quick\", \"develop\", \"ocean\", \"warm\", \"free\",\n",
        "    \"minute\", \"strong\", \"special\", \"mind\", \"behind\", \"clear\", \"tail\", \"produce\", \"fact\", \"street\",\n",
        "    \"inch\", \"multiply\", \"nothing\", \"course\", \"stay\", \"wheel\", \"full\", \"force\", \"blue\", \"object\",\n",
        "    \"decide\", \"surface\", \"deep\", \"moon\", \"island\", \"foot\", \"system\", \"busy\", \"test\", \"record\",\n",
        "    \"boat\", \"common\", \"gold\", \"possible\", \"plane\", \"stead\", \"dry\", \"wonder\", \"laugh\", \"thousand\",\n",
        "    \"ago\", \"ran\", \"check\", \"game\", \"shape\", \"equate\", \"hot\", \"miss\", \"brought\", \"heat\",\n",
        "    \"snow\", \"tire\", \"bring\", \"yes\", \"distant\", \"fill\", \"east\", \"paint\", \"language\", \"among\",\n",
        "    \"grand\", \"ball\", \"yet\", \"wave\", \"drop\", \"heart\", \"am\", \"present\", \"heavy\", \"dance\",\n",
        "    \"engine\", \"position\", \"arm\", \"wide\", \"sail\", \"material\", \"size\", \"vary\", \"settle\", \"speak\",\n",
        "    \"weight\", \"general\", \"ice\", \"matter\", \"circle\", \"pair\", \"include\", \"divide\", \"syllable\", \"felt\",\n",
        "    \"perhaps\", \"pick\", \"sudden\", \"count\", \"square\", \"reason\", \"length\", \"represent\", \"art\", \"subject\",\n",
        "    \"region\", \"energy\", \"hunt\", \"probable\", \"bed\", \"brother\", \"egg\", \"ride\", \"cell\", \"believe\",\n",
        "    \"fraction\", \"forest\", \"sit\", \"race\", \"window\", \"store\", \"summer\", \"train\", \"sleep\", \"prove\",\n",
        "    \"lone\", \"leg\", \"exercise\", \"wall\", \"catch\", \"mount\", \"wish\", \"sky\", \"board\", \"joy\",\n",
        "    \"winter\", \"sat\", \"written\", \"wild\", \"instrument\", \"kept\", \"glass\", \"grass\", \"cow\", \"job\",\n",
        "    \"edge\", \"sign\", \"visit\", \"past\", \"soft\", \"fun\", \"bright\", \"gas\", \"weather\", \"month\",\n",
        "    \"million\", \"bear\", \"finish\", \"happy\", \"hope\", \"flower\", \"clothe\", \"strange\", \"gone\", \"jump\",\n",
        "    \"baby\", \"eight\", \"village\", \"meet\", \"root\", \"buy\", \"raise\", \"solve\", \"metal\", \"whether\",\n",
        "    \"push\", \"seven\", \"paragraph\", \"third\", \"shall\", \"held\", \"hair\", \"describe\", \"cook\", \"floor\",\n",
        "    \"either\", \"result\", \"burn\", \"hill\", \"safe\", \"cat\", \"century\", \"consider\", \"type\", \"law\",\n",
        "    \"bit\", \"coast\", \"copy\", \"phrase\", \"silent\", \"tall\", \"sand\", \"soil\", \"roll\", \"temperature\",\n",
        "    \"finger\", \"industry\", \"value\", \"fight\", \"lie\", \"beat\", \"excite\", \"natural\", \"view\", \"sense\",\n",
        "    \"ear\", \"else\", \"quite\", \"broke\", \"case\", \"middle\", \"kill\", \"son\", \"lake\", \"moment\",\n",
        "    \"scale\", \"loud\", \"spring\", \"observe\", \"child\", \"straight\", \"consonant\", \"nation\", \" Refresh\", \"milk\",\n",
        "    \"speed\", \"method\", \"organ\", \"pay\", \"age\", \"section\", \"dress\", \"cloud\", \"surprise\", \"quiet\",\n",
        "    \"stone\", \"tiny\", \"climb\", \"cool\", \"design\", \"poor\", \"lot\", \"experiment\", \"bottom\", \"key\",\n",
        "    \"iron\", \"single\", \"stick\", \"flat\", \"twenty\", \"skin\", \"smile\", \"crease\", \"hole\", \"trade\",\n",
        "    \"melody\", \"trip\", \"office\", \"receive\", \"row\", \"mouth\", \"exact\", \"symbol\", \"die\", \"least\",\n",
        "    \"trouble\", \"shout\", \"except\", \"wrote\", \"seed\", \"tone\", \"join\", \"suggest\", \"clean\", \"break\",\n",
        "    \"lady\", \"yard\", \"rise\", \"bad\", \"blow\", \"oil\", \"blood\", \"touch\", \"grew\", \"cent\",\n",
        "    \"mix\", \"team\", \"wire\", \"cost\", \"lost\", \"brown\", \"wear\", \"garden\", \"equal\", \"sent\",\n",
        "    \"choose\", \"fell\", \"fit\", \"flow\", \"fair\", \"bank\", \"collect\", \"save\", \"control\", \"decimal\",\n",
        "    \"gentle\", \"woman\", \"captain\", \"practice\", \"separate\", \"difficult\", \"doctor\", \"please\", \"protect\", \"noon\",\n",
        "    \"whose\", \"locate\", \"ring\", \"character\", \"insect\", \"caught\", \"period\", \"indicate\", \"radio\", \"spoke\",\n",
        "    \"atom\", \"human\", \"history\", \"effect\", \"electric\", \"expect\", \"crop\", \"modern\", \"element\", \"hit\",\n",
        "    \"student\", \"corner\", \"party\", \"supply\", \"bone\", \"rail\", \"imagine\", \"provide\", \"agree\", \"thus\",\n",
        "    \"capital\", \"wont\", \"chair\", \"danger\", \"fruit\", \"rich\", \"thick\", \"soldier\", \"process\", \"operate\",\n",
        "    \"guess\", \"necessary\", \"sharp\", \"wing\", \"create\", \"neighbor\", \"wash\", \"bat\", \"rather\", \"crowd\",\n",
        "    \"corn\", \"compare\", \"poem\", \"string\", \"bell\", \"depend\", \"meat\", \"rub\", \"tube\", \"famous\",\n",
        "    \"dollar\", \"stream\", \"fear\", \"sight\", \"thin\", \"triangle\", \"planet\", \"hurry\", \"chief\", \"colony\",\n",
        "    \"clock\", \"mine\", \"tie\", \"enter\", \"major\", \"fresh\", \"search\", \"send\", \"yellow\", \"gun\",\n",
        "    \"allow\", \"print\", \"dead\", \"spot\", \"desert\", \"suit\", \"current\", \"lift\", \"rose\", \"continue\",\n",
        "    \"block\", \"chart\", \"hat\", \"sell\", \"success\", \"company\", \"subtract\", \"event\", \"particular\", \"deal\",\n",
        "    \"swim\", \"term\", \"opposite\", \"wife\", \"shoe\", \"shoulder\", \"spread\", \"arrange\", \"camp\", \"invent\",\n",
        "    \"cotton\", \"born\", \"determine\", \"quart\", \"nine\", \"truck\", \"noise\", \"level\", \"chance\", \"gather\",\n",
        "    \"shop\", \"stretch\", \"throw\", \"shine\", \"property\", \"column\", \"molecule\", \"select\", \"wrong\", \"gray\",\n",
        "    \"repeat\", \"require\", \"broad\", \"prepare\", \"salt\", \"nose\", \"plural\", \"anger\", \"claim\", \"continent\",\n",
        "    \"oxygen\", \"sugar\", \"death\", \"pretty\", \"skill\", \"women\", \"season\", \"solution\", \"magnet\", \"silver\",\n",
        "    \"thank\", \"branch\", \"match\", \"suffix\", \"especially\", \"fig\", \"afraid\", \"huge\", \"sister\", \"steel\",\n",
        "    \"discuss\", \"forward\", \"similar\", \"guide\", \"experience\", \"score\", \"apple\", \"bought\", \"led\", \"pitch\",\n",
        "    \"coat\", \"mass\", \"card\", \"band\", \"rope\", \"slip\", \"win\", \"dream\", \"evening\", \"condition\",\n",
        "    \"feed\", \"tool\", \"total\", \"basic\", \"smell\", \"valley\", \"nor\", \"double\", \"seat\", \"arrive\",\n",
        "    \"master\", \"track\", \"parent\", \"shore\", \"division\", \"sheet\", \"substance\", \"favor\", \"connect\", \"post\",\n",
        "    \"spend\", \"chord\", \"fat\", \"glad\", \"original\", \"share\", \"station\", \"dad\", \"bread\", \"charge\",\n",
        "    \"proper\", \"bar\", \"offer\", \"segment\", \"slave\", \"duck\", \"instant\", \"market\", \"degree\", \"populate\",\n",
        "    \"chick\", \"dear\", \"enemy\", \"reply\", \"drink\", \"occur\", \"support\", \"speech\", \"nature\", \"range\",\n",
        "    \"steam\", \"motion\", \"path\", \"liquid\", \"log\", \"meant\", \"quotient\", \"teeth\", \"shell\", \"neck\"\n",
        "]\n"
      ],
      "metadata": {
        "id": "cT-CYQuu3lzQ"
      },
      "execution_count": 821,
      "outputs": []
    },
    {
      "cell_type": "code",
      "source": [
        "from torch.utils.data import Dataset\n",
        "from torchvision import transforms\n",
        "import random\n",
        "from PIL import Image, ImageDraw, ImageFont\n",
        "import torch\n",
        "\n",
        "class TinySynthWordDataset(Dataset):\n",
        "    def __init__(self, word_list, num_words, exemplars_per_word=10, transform=None):\n",
        "        self.transform = transform\n",
        "        self.exemplars_per_word = exemplars_per_word\n",
        "        self.words = word_list[:num_words]\n",
        "        self.label_map = {word: idx for idx, word in enumerate(self.words)}\n",
        "        self.images = []\n",
        "        self.labels = []\n",
        "        print(f\"Generating tiny synthetic dataset with {num_words} words...\")\n",
        "        for idx, word in enumerate(self.words):  # Use index explicitly\n",
        "            for _ in range(exemplars_per_word):\n",
        "                img = self._generate_word_image(word)\n",
        "                self.images.append(img)\n",
        "                self.labels.append(idx)  # Assign correct label\n",
        "        self.images = torch.stack(self.images)\n",
        "        # Verify alignment\n",
        "        print(\"Verifying dataset...\")\n",
        "        for i, (img, label) in enumerate(self):\n",
        "            expected_word = self.words[label]\n",
        "            #print(f\"Index {i}: Label {label}, Expected word: {expected_word}\")\n",
        "\n",
        "    def _generate_word_image(self, word):\n",
        "        img = Image.new('L', (64, 32), color=255)\n",
        "        draw = ImageDraw.Draw(img)\n",
        "        font_size = random.randint(12, 18)\n",
        "        try:\n",
        "            font = ImageFont.truetype(\"/usr/share/fonts/truetype/dejavu/DejaVuSans.ttf\", font_size)\n",
        "        except OSError:\n",
        "            font = ImageFont.load_default()\n",
        "        text_size = draw.textlength(word, font=font) if font else len(word) * 6\n",
        "        x = random.randint(2, max(2, 64 - int(text_size) - 2))\n",
        "        y = random.randint(2, max(2, 32 - font_size - 2))\n",
        "        draw.text((x, y), word, fill=0, font=font)\n",
        "        return transforms.ToTensor()(img)\n",
        "\n",
        "    def __len__(self):\n",
        "        return len(self.images)\n",
        "\n",
        "    def __getitem__(self, idx):\n",
        "        img = self.images[idx]\n",
        "        label = self.labels[idx]\n",
        "        if self.transform:\n",
        "            img = self.transform(img)\n",
        "        return img, label"
      ],
      "metadata": {
        "id": "2rHIfpHiyDAu"
      },
      "execution_count": 822,
      "outputs": []
    },
    {
      "cell_type": "code",
      "source": [
        "# Dataset and DataLoader\n",
        "num_words = args.num_words\n",
        "exemplars_per_word = 100\n",
        "transform = transforms.Compose([\n",
        "    transforms.Lambda(lambda x: x.repeat(3, 1, 1)),\n",
        "    transforms.Normalize((0.5,), (0.5,))\n",
        "])\n",
        "dataset = TinySynthWordDataset(full_wordlist, num_words=num_words, exemplars_per_word=exemplars_per_word, transform=transform)\n",
        "train_size = int(0.8 * len(dataset))\n",
        "test_size = len(dataset) - train_size\n",
        "train_dataset, test_dataset = random_split(dataset, [train_size, test_size])\n",
        "train_loader = DataLoader(train_dataset, batch_size=args.batch_size, shuffle=True)\n",
        "test_loader = DataLoader(test_dataset, batch_size=args.test_batch_size, shuffle=False)"
      ],
      "metadata": {
        "colab": {
          "base_uri": "https://localhost:8080/"
        },
        "id": "kwgJfDvIT7LT",
        "outputId": "a31d1ddf-fc5b-43c0-aedc-e2612edd65b8"
      },
      "execution_count": 823,
      "outputs": [
        {
          "output_type": "stream",
          "name": "stdout",
          "text": [
            "Generating tiny synthetic dataset with 30 words...\n",
            "Verifying dataset...\n"
          ]
        }
      ]
    },
    {
      "cell_type": "code",
      "source": [
        "import matplotlib.pyplot as plt\n",
        "%matplotlib inline\n",
        "\n",
        "def visualize_samples(loader, dataset, num_samples=5, predicted=None):  # Added predicted parameter\n",
        "    # Get one batch of data\n",
        "    images, labels = next(iter(loader))\n",
        "    batch_size = images.size(0)  # Actual number of images in batch\n",
        "    print (images.size())\n",
        "\n",
        "    # Use minimum of requested samples and available batch size\n",
        "    num_to_show = min(num_samples, batch_size)\n",
        "\n",
        "    # Create inverse mapping of labels to words\n",
        "    index_to_word = {idx: word for word, idx in dataset.label_map.items()}\n",
        "\n",
        "    print(f\"Visualizing {num_to_show} synthetic samples...\")\n",
        "\n",
        "    # Create subplots in one column and multiple rows\n",
        "    fig, axes = plt.subplots(num_to_show, 1, figsize=(3, 3 * num_to_show))\n",
        "                                                    # Width, Height (adjusted for vertical layout)\n",
        "\n",
        "    # Loop through images and display them\n",
        "    for i in range(num_to_show):\n",
        "        img = images[i].permute(1, 2, 0).numpy()  # Convert CHW to HWC format\n",
        "        img = (img * 0.5) + 0.5  # Denormalize from [-1,1] to [0,1]\n",
        "        axes[i].imshow(img)  # Display image on the current subplot\n",
        "\n",
        "        # Use predicted labels if provided, otherwise use original labels\n",
        "        title_label = predicted[i].item() if predicted is not None else labels[i].item()\n",
        "\n",
        "        # Add \"pred\" or \"predicted\" to the title if predicted is provided\n",
        "        title_prefix = \"Pred: \" if predicted is not None else \"Word: \"\n",
        "        axes[i].set_title(f\"{title_prefix}{index_to_word[title_label]}\")\n",
        "\n",
        "        axes[i].axis('off')\n",
        "\n",
        "    plt.tight_layout()\n",
        "    plt.show()\n",
        "\n",
        "print(\"Visualizing samples...\")\n",
        "visualize_samples(train_loader, dataset, num_samples=10)"
      ],
      "metadata": {
        "colab": {
          "base_uri": "https://localhost:8080/",
          "height": 1000
        },
        "id": "4xr_eI77mbT8",
        "outputId": "46310578-315b-4da9-e99a-8445343cdd6f"
      },
      "execution_count": 824,
      "outputs": [
        {
          "output_type": "stream",
          "name": "stdout",
          "text": [
            "Visualizing samples...\n",
            "torch.Size([50, 3, 32, 64])\n",
            "Visualizing 10 synthetic samples...\n"
          ]
        },
        {
          "output_type": "display_data",
          "data": {
            "text/plain": [
              "<Figure size 300x3000 with 10 Axes>"
            ],
            "image/png": "[encoded data removed]"
          },
          "metadata": {}
        }
      ]
    },
    {
      "cell_type": "markdown",
      "source": [
        "## Model"
      ],
      "metadata": {
        "id": "pdtlVDinTpb8"
      }
    },
    {
      "cell_type": "code",
      "source": [
        "# Helper Functions (unchanged)\n",
        "def conv3x3(in_planes, out_planes, stride=1):\n",
        "    return nn.Conv2d(in_planes, out_planes, kernel_size=3, stride=stride, padding=1, bias=False)\n",
        "\n",
        "def conv1x1(in_planes, out_planes, stride=1):\n",
        "    return nn.Conv2d(in_planes, out_planes, kernel_size=1, stride=stride, bias=False)\n",
        "\n",
        "def norm(dim):\n",
        "    return nn.GroupNorm(min(32, dim), dim)\n",
        "\n",
        "class ResBlock(nn.Module):\n",
        "    expansion = 1\n",
        "    def __init__(self, inplanes, planes, stride=1, downsample=None):\n",
        "        super(ResBlock, self).__init__()\n",
        "        self.norm1 = norm(inplanes)\n",
        "        self.relu = nn.ReLU(inplace=True)\n",
        "        self.downsample = downsample\n",
        "        self.conv1 = conv3x3(inplanes, planes, stride)\n",
        "        self.norm2 = norm(planes)\n",
        "        self.conv2 = conv3x3(planes, planes)\n",
        "\n",
        "    def forward(self, x):\n",
        "        shortcut = x\n",
        "        out = self.relu(self.norm1(x))\n",
        "        if self.downsample is not None:\n",
        "            shortcut = self.downsample(out)\n",
        "        out = self.conv1(out)\n",
        "        out = self.norm2(out)\n",
        "        out = self.relu(out)\n",
        "        out = self.conv2(out)\n",
        "        return out + shortcut\n",
        "\n",
        "\n",
        "class gLIAsymFunc(nn.Module):\n",
        "  def __init__(self, dim):\n",
        "      super(gLIAsymFunc, self).__init__()\n",
        "      #epsilon = 0.000001 if dim <= 100 else 0.000001\n",
        "      self.epsilon = 0.000001\n",
        "\n",
        "      self.r = nn.Parameter(self.epsilon * torch.ones(dim)).to(device)\n",
        "      self.linear = nn.Linear(dim, dim, bias=False).to(device)  # dim = 64 + num_words\n",
        "      self.relu = nn.ReLU(inplace=True)\n",
        "\n",
        "      # Initialize weights to lower triangular with epsilon on diagonal\n",
        "      with torch.no_grad():\n",
        "          self.linear.weight.data = self.epsilon * torch.tril(torch.ones_like(self.linear.weight), diagonal=-1)\n",
        "          self.linear.weight.data = self.linear.weight.data + self.epsilon * torch.eye(dim, device=device)\n",
        "\n",
        "      # Register hook to zero out gradients of the upper triangular part\n",
        "      self.linear.weight.register_hook(lambda grad: torch.tril(grad, diagonal=0))\n",
        "\n",
        "      # Initialize the word part\n",
        "      word_part = self.epsilon * (torch.eye(num_words, device=device) - torch.ones(num_words, num_words, device=device))\n",
        "      with torch.no_grad():\n",
        "          word_part += -0.9*self.epsilon * torch.eye(num_words, device=device)\n",
        "          self.linear.weight.data[-num_words:, -num_words:] = word_part\n",
        "\n",
        "  def forward(self, t, x):\n",
        "      with torch.no_grad():\n",
        "        lower_triangular = torch.tril(self.linear.weight.data, diagonal=0)\n",
        "        self.linear.weight.data = lower_triangular + lower_triangular.transpose(0, 1) - torch.diag(torch.diag(lower_triangular))\n",
        "      x = 0.1*(1 + x) #x comes normalized around zero, but we need small positive values, hence this linear transform. It also controls the weight growth quite well.\n",
        "      out = x*(self.r + self.linear(x))\n",
        "      return out\n",
        "\n",
        "# gLIA Function (Operates on 64 + num_words)\n",
        "class gLIAFunc(nn.Module):\n",
        "    def __init__(self, dim):\n",
        "        super(gLIAFunc, self).__init__()\n",
        "        self.epsilon = 0.0001 if dim <= 100 else 0.000001\n",
        "        self.linear = nn.Linear(dim, dim, bias=False)  # dim = 64 + num_words\n",
        "        self.linear.weight.data[-num_words:, -num_words:] = self.epsilon * (torch.eye(num_words).to(device) - torch.ones(num_words, num_words).to(device))\n",
        "        self.relu = nn.ReLU(inplace=True)\n",
        "        self.r = nn.Parameter(self.epsilon * torch.ones(dim)).to(device)\n",
        "\n",
        "    def forward(self, t, x):\n",
        "        x = 0.1*(1 + self.relu(x)) #x comes normalized around zero, but we need small positive values, hence this linear transform. It also controls the weight growth quite well.\n",
        "        out = x*(self.r + self.linear(x))\n",
        "        #out = self.relu(out)\n",
        "        return out\n",
        "\n",
        "class IAFunc(nn.Module):\n",
        "  def __init__(self, dim):\n",
        "      super(IAFunc, self).__init__()\n",
        "      self.epsilon = 1 / (1000 * dim)\n",
        "      self.r = torch.ones(dim, device=device) * 0.1\n",
        "      self.linear = nn.Linear(dim, dim, bias=False)  # dim = 64 + num_words\n",
        "      self.linear.weight.data[-num_words:, -num_words:] = self.epsilon * (torch.eye(num_words).to(device) - torch.ones(num_words, num_words).to(device))\n",
        "\n",
        "  def forward(self, t, x):\n",
        "      \"\"\"\n",
        "      Implements Interactive Activation model dynamics:\n",
        "      - Bidirectional excitation between connected units (letters and words)\n",
        "      - Lateral inhibition between words\n",
        "      - Activation bounded between 0 and 1 using a logistic function\n",
        "      \"\"\"\n",
        "      # Calculate net input from interactions\n",
        "      net_input = self.linear(x)\n",
        "\n",
        "      # Add decay term (typically negative to prevent runaway activation)\n",
        "      decay = -0.1 * x  # Decay rate of -0.1 as per typical IA model\n",
        "\n",
        "      # Calculate activation update\n",
        "      # In IA model, rate of change depends on whether activation is increasing or decreasing\n",
        "      excitation = (1.0 - x) * torch.relu(net_input)  # If net input is positive\n",
        "      inhibition = x * torch.relu(-net_input)        # If net input is negative\n",
        "\n",
        "      # Total change combines growth, decay, and interactions\n",
        "      dx_dt = self.r * (excitation - inhibition) + decay\n",
        "\n",
        "      return dx_dt\n",
        "\n",
        "# ODE Network with ODE as Last Layer\n",
        "class MyODENetwork(nn.Module):\n",
        "    def __init__(self, downsampling_layers, feature_layers, ode_func, num_words):\n",
        "        super(MyODENetwork, self).__init__()\n",
        "        self.downsampling = nn.Sequential(*downsampling_layers)\n",
        "        self.features = nn.Sequential(*feature_layers)\n",
        "        self.ode_func = ode_func\n",
        "        self.num_words = num_words\n",
        "        self.initial_projection = nn.Linear(64, 64 + num_words)  # Project 64 to 64 + num_words\n",
        "\n",
        "    def forward(self, x, return_all=False):\n",
        "        x = self.downsampling(x)\n",
        "        x = self.features(x)\n",
        "        x = torch.mean(x, dim=(2, 3))  # (batch_size, 64)\n",
        "\n",
        "        # Normalize input only if batch_size > 1\n",
        "        if x.shape[0] > 1:\n",
        "            x_mean = x.mean(dim=0, keepdim=True)\n",
        "            x_std = x.std(dim=0, keepdim=True) + 1e-8\n",
        "            x = (x - x_mean) / x_std\n",
        "\n",
        "        # Project to 64 + num_words before ODE\n",
        "        x = self.initial_projection(x)  # (batch_size, 64 + num_words)\n",
        "\n",
        "        # ODE integration\n",
        "        #integration_time = torch.tensor([0, 1.0], device=x.device, dtype=x.dtype)\n",
        "        # Define finer integration time points\n",
        "        integration_time = torch.linspace(0, 1.0, 20, device=x.device, dtype=x.dtype)\n",
        "        x = odeint(self.ode_func, x, integration_time, rtol=args.tol, atol=args.tol, method='euler')\n",
        "\n",
        "        if return_all:\n",
        "            return x[:, :, -self.num_words:]\n",
        "\n",
        "        #else\n",
        "        #x = x[-1]  # (batch_size, 64 + num_words)\n",
        "        # Readout the last num_words units as logits\n",
        "        logits = x[-1, :, -self.num_words:]\n",
        "        return logits\n"
      ],
      "metadata": {
        "id": "2NFhpQXbm_Io"
      },
      "execution_count": 825,
      "outputs": []
    },
    {
      "cell_type": "code",
      "source": [
        "# Model Setup\n",
        "hidden_dim = 64 + num_words\n",
        "\n",
        "if args.downsampling_method == 'conv':\n",
        "    downsampling_layers = [\n",
        "        nn.Conv2d(3, 64, 3, 1, 1),\n",
        "        norm(64),\n",
        "        nn.ReLU(inplace=True),\n",
        "        nn.Conv2d(64, 64, 4, 2, 1),\n",
        "        norm(64),\n",
        "        nn.ReLU(inplace=True),\n",
        "        nn.Conv2d(64, 64, 4, 2, 1),\n",
        "        norm(64),\n",
        "        nn.ReLU(inplace=True),\n",
        "    ]\n",
        "elif args.downsampling_method == 'res':\n",
        "    downsampling_layers = [\n",
        "        nn.Conv2d(3, 64, 3, 1, 1),\n",
        "        ResBlock(64, 64, stride=2, downsample=conv1x1(64, 64, 2)),\n",
        "        ResBlock(64, 64, stride=2, downsample=conv1x1(64, 64, 2)),\n",
        "    ]\n",
        "\n",
        "feature_layers = [ResBlock(64, 64) for _ in range(1)]\n",
        "ode_func = gLIAsymFunc(hidden_dim).to(device)  # Input and output: 64 + 5 = 69\n",
        "#ode_func = gLIAFunc(hidden_dim).to(device)  # Input and output: 64 + 5 = 69\n",
        "#ode_func = IAFunc(hidden_dim).to(device)  # Input and output: 64 + 5 = 69\n",
        "model = MyODENetwork(downsampling_layers, feature_layers, ode_func, num_words).to(device)\n",
        "print(f\"Number of parameters: {sum(p.numel() for p in model.parameters())}\")"
      ],
      "metadata": {
        "colab": {
          "base_uri": "https://localhost:8080/"
        },
        "id": "SQDK7QqsUCCP",
        "outputId": "816f8768-fb57-4976-9c80-0ecd14bd9c30"
      },
      "execution_count": 826,
      "outputs": [
        {
          "output_type": "stream",
          "name": "stdout",
          "text": [
            "Number of parameters: 222306\n"
          ]
        }
      ]
    },
    {
      "cell_type": "markdown",
      "source": [
        "## Training"
      ],
      "metadata": {
        "id": "15JhL_QnUEnR"
      }
    },
    {
      "cell_type": "code",
      "source": [
        "# Training Setup\n",
        "criterion = nn.CrossEntropyLoss().to(device)\n",
        "optimizer = torch.optim.Adam(model.parameters(), lr=args.lr)\n",
        "\n",
        "def inf_generator(iterable):\n",
        "    iterator = iterable.__iter__()\n",
        "    while True:\n",
        "        try:\n",
        "            yield iterator.__next__()\n",
        "        except StopIteration:\n",
        "            iterator = iterable.__iter__()\n",
        "\n",
        "def accuracy(model, dataset_loader):\n",
        "    total_correct = 0\n",
        "    for x, y in dataset_loader:\n",
        "        x = x.to(device)\n",
        "        y = y.to(device)\n",
        "        logits = model(x)\n",
        "        predicted_class = torch.argmax(logits, dim=1)\n",
        "        total_correct += (predicted_class == y).sum().item()\n",
        "    return 100*total_correct / len(dataset_loader.dataset)\n",
        "\n",
        "# Weight Tracking and Visualization\n",
        "weight_history = []\n",
        "prev_weight = None\n",
        "\n",
        "def update_weight_history():\n",
        "    global prev_weight\n",
        "    weight_matrix = model.ode_func.linear.weight.data.cpu().numpy()\n",
        "    #weight_matrix = model.ode_func.A.data.cpu().numpy()\n",
        "    weight_history.append(weight_matrix.copy())\n",
        "    if prev_weight is not None:\n",
        "        weight_diff_norm = np.linalg.norm(weight_matrix - prev_weight)\n",
        "        print(f\"Weight Change Norm: {weight_diff_norm:.6f}\")\n",
        "    prev_weight = weight_matrix.copy()\n",
        "\n",
        "# Training Loop\n",
        "data_gen = inf_generator(train_loader)\n",
        "batches_per_epoch = len(train_loader)\n",
        "\n",
        "for itr in range(args.nepochs * batches_per_epoch):\n",
        "    optimizer.zero_grad()\n",
        "    x, y = data_gen.__next__()\n",
        "    x, y = x.to(device), y.to(device)\n",
        "    logits = model(x)\n",
        "    loss = criterion(logits, y)\n",
        "\n",
        "    loss.backward()\n",
        "    optimizer.step()\n",
        "\n",
        "    if itr % batches_per_epoch == 0:\n",
        "        with torch.no_grad():\n",
        "            train_acc = accuracy(model, train_loader)\n",
        "            test_acc = accuracy(model, test_loader)\n",
        "            weight_sum = model.ode_func.linear.weight.sum().item()\n",
        "            print(f\"Epoch {itr // batches_per_epoch:04d} | Loss: {loss.item():.4f} | \"\n",
        "                  f\"Train Acc: {train_acc:.4f} | Test Acc: {test_acc:.4f} | \"\n",
        "                  f\"Weight Sum: {weight_sum:.4f}\")\n",
        "            update_weight_history()"
      ],
      "metadata": {
        "colab": {
          "base_uri": "https://localhost:8080/"
        },
        "id": "V3TrrG1oUMec",
        "outputId": "d3107344-e0cb-4d22-dd13-ab0034c5b205"
      },
      "execution_count": 827,
      "outputs": [
        {
          "output_type": "stream",
          "name": "stdout",
          "text": [
            "Epoch 0000 | Loss: 3.3395 | Train Acc: 5.8333 | Test Acc: 4.5000 | Weight Sum: -0.1146\n",
            "Epoch 0001 | Loss: 2.3870 | Train Acc: 49.1667 | Test Acc: 36.6667 | Weight Sum: 6.0701\n",
            "Weight Change Norm: 0.161518\n",
            "Epoch 0002 | Loss: 1.7831 | Train Acc: 78.7083 | Test Acc: 65.8333 | Weight Sum: 37.9944\n",
            "Weight Change Norm: 0.422571\n",
            "Epoch 0003 | Loss: 1.3737 | Train Acc: 92.8750 | Test Acc: 86.3333 | Weight Sum: 82.2647\n",
            "Weight Change Norm: 0.574207\n",
            "Epoch 0004 | Loss: 1.0793 | Train Acc: 96.9167 | Test Acc: 92.3333 | Weight Sum: 129.0659\n",
            "Weight Change Norm: 0.613739\n",
            "Epoch 0005 | Loss: 0.7780 | Train Acc: 98.9167 | Test Acc: 95.5000 | Weight Sum: 175.1661\n",
            "Weight Change Norm: 0.614433\n",
            "Epoch 0006 | Loss: 0.6368 | Train Acc: 99.8750 | Test Acc: 97.5000 | Weight Sum: 219.6729\n",
            "Weight Change Norm: 0.603348\n",
            "Epoch 0007 | Loss: 0.4955 | Train Acc: 99.9583 | Test Acc: 98.0000 | Weight Sum: 262.1260\n",
            "Weight Change Norm: 0.584277\n",
            "Epoch 0008 | Loss: 0.4368 | Train Acc: 99.9167 | Test Acc: 98.5000 | Weight Sum: 302.5350\n",
            "Weight Change Norm: 0.563547\n",
            "Epoch 0009 | Loss: 0.3261 | Train Acc: 100.0000 | Test Acc: 99.0000 | Weight Sum: 340.9446\n",
            "Weight Change Norm: 0.539533\n",
            "Epoch 0010 | Loss: 0.2806 | Train Acc: 100.0000 | Test Acc: 98.8333 | Weight Sum: 377.3083\n",
            "Weight Change Norm: 0.516060\n",
            "Epoch 0011 | Loss: 0.2193 | Train Acc: 100.0000 | Test Acc: 99.0000 | Weight Sum: 411.9778\n",
            "Weight Change Norm: 0.495953\n",
            "Epoch 0012 | Loss: 0.2156 | Train Acc: 100.0000 | Test Acc: 99.3333 | Weight Sum: 444.9425\n",
            "Weight Change Norm: 0.475394\n",
            "Epoch 0013 | Loss: 0.1829 | Train Acc: 100.0000 | Test Acc: 99.1667 | Weight Sum: 476.6090\n",
            "Weight Change Norm: 0.458148\n",
            "Epoch 0014 | Loss: 0.1413 | Train Acc: 100.0000 | Test Acc: 99.3333 | Weight Sum: 507.0351\n",
            "Weight Change Norm: 0.443389\n",
            "Epoch 0015 | Loss: 0.1280 | Train Acc: 100.0000 | Test Acc: 99.6667 | Weight Sum: 536.4376\n",
            "Weight Change Norm: 0.431081\n",
            "Epoch 0016 | Loss: 0.1256 | Train Acc: 100.0000 | Test Acc: 99.6667 | Weight Sum: 564.9570\n",
            "Weight Change Norm: 0.420169\n",
            "Epoch 0017 | Loss: 0.1122 | Train Acc: 100.0000 | Test Acc: 99.6667 | Weight Sum: 592.3651\n",
            "Weight Change Norm: 0.405956\n",
            "Epoch 0018 | Loss: 0.0989 | Train Acc: 100.0000 | Test Acc: 99.6667 | Weight Sum: 618.8019\n",
            "Weight Change Norm: 0.392836\n",
            "Epoch 0019 | Loss: 0.0864 | Train Acc: 100.0000 | Test Acc: 99.6667 | Weight Sum: 644.6228\n",
            "Weight Change Norm: 0.385818\n"
          ]
        }
      ]
    },
    {
      "cell_type": "code",
      "source": [
        "# After defining `num_words` (and potentially changing its value for different runs):\n",
        "num_samples = num_words * exemplars_per_word\n",
        "num_parameters = sum(p.numel() for p in model.parameters() if p.requires_grad)\n",
        "print(f\"| {num_words} | {num_samples} | {num_parameters} | {test_acc:.2f}  | - | - | - |\")"
      ],
      "metadata": {
        "colab": {
          "base_uri": "https://localhost:8080/"
        },
        "id": "xVcdIzon2PCI",
        "outputId": "7bec28fa-21a7-4001-c845-09c2756ecd95"
      },
      "execution_count": 828,
      "outputs": [
        {
          "output_type": "stream",
          "name": "stdout",
          "text": [
            "| 30 | 3000 | 222306 | 99.67  | - | - | - |\n"
          ]
        }
      ]
    },
    {
      "cell_type": "markdown",
      "source": [
        "| Words | Total Samples | Parameters | Test Acc. (%) gLIA | Test Acc. (%) gLIA Sym. | Test Acc. (%) gLIA Neg. Def. | Test Acc. (%) IA |\n",
        "|-------|----------|------------|---------------------|---------------------|-------------------------|------------------------------|\n",
        "| 10 | 1000 | 217646 | 100.00  | 100.00 | 100.00 | 100.00 |\n",
        "| 20 | 2000 | 219876 | 96.25  | 100.00 | 100.00 | 100.00 |\n",
        "| 30 | 3000 | 222306 | 98.33  | 100.00 | 100.00 | 100.00 |\n",
        "| 100 | 10000 | 244916 | 99.15  | 100.00 | 100.00 | 99.85 |\n",
        "| 200 | 20000 | 294216 | 72.52  | 100.00 | 100.00 | 96.97 |\n",
        "| 500 | 50000 | 562116 | 93.59  | 99.74 | 99.74 | 94.15 |\n",
        "| 1000 | 100000 | 1408616 | 90.96  | 99.30 | 99.30 | 97.92 |"
      ],
      "metadata": {
        "id": "Dme_HHEl6fAR"
      }
    },
    {
      "cell_type": "markdown",
      "source": [
        "## Possibly turn into Negative definite"
      ],
      "metadata": {
        "id": "reWbwtr203zD"
      }
    },
    {
      "cell_type": "code",
      "source": [
        "if args.go_neg_def:\n",
        "\n",
        "  def make_sym_neg_def(matrix):\n",
        "      \"\"\"\n",
        "      Makes a symmetric matrix negative definite by subtracting the largest eigenvalue\n",
        "      from the diagonal if it's positive.\n",
        "\n",
        "      Args:\n",
        "          matrix: A symmetric PyTorch tensor.\n",
        "\n",
        "      Returns:\n",
        "          A negative definite PyTorch tensor.\n",
        "      \"\"\"\n",
        "      with torch.no_grad():\n",
        "          # Calculate eigenvalues (only need the largest one)\n",
        "          largest_eigenvalue = torch.linalg.eigvalsh(matrix).max().item()\n",
        "\n",
        "          # If largest eigenvalue is positive, adjust the diagonal\n",
        "          if largest_eigenvalue > 0:\n",
        "              adjustment = largest_eigenvalue + 1e-6  # Add a small margin\n",
        "              matrix.sub_(torch.eye(matrix.shape[0], device=matrix.device) * adjustment)\n",
        "\n",
        "      return matrix\n",
        "\n",
        "  # --- Negative Definiteness (Neural ODE) ---\n",
        "  def is_negative_definite(matrix):\n",
        "      eigvals, _ = torch.linalg.eigh(matrix)\n",
        "      return all(eigvals <= 0)\n",
        "\n",
        "  A = model.ode_func.linear.weight.data.clone()\n",
        "\n",
        "  if is_negative_definite(A):\n",
        "      print(\"The weight matrix is negative definite.\")\n",
        "  else:\n",
        "      print(\"The weight matrix is NOT negative definite, making it so...\")\n",
        "      with torch.no_grad():\n",
        "          model.ode_func.linear.weight.data = make_sym_neg_def(A)\n",
        "          if is_negative_definite(model.ode_func.linear.weight.data):\n",
        "              print(\"The weight matrix is now negative definite.\")"
      ],
      "metadata": {
        "colab": {
          "base_uri": "https://localhost:8080/"
        },
        "id": "vAie2aUB1Nrs",
        "outputId": "a1e783d7-1c17-47d1-9925-cd83df9e14f4"
      },
      "execution_count": 829,
      "outputs": [
        {
          "output_type": "stream",
          "name": "stdout",
          "text": [
            "The weight matrix is NOT negative definite, making it so...\n",
            "The weight matrix is now negative definite.\n"
          ]
        }
      ]
    },
    {
      "cell_type": "code",
      "source": [
        "final_acc_ode = accuracy(model, test_loader)\n",
        "print(f\"Final Test Accuracy (Neural ODE): {final_acc_ode:.2f}%\")"
      ],
      "metadata": {
        "colab": {
          "base_uri": "https://localhost:8080/"
        },
        "id": "YB3vOjRd1AlT",
        "outputId": "a8e8bcfe-e976-4973-b592-8cb100edb878"
      },
      "execution_count": 830,
      "outputs": [
        {
          "output_type": "stream",
          "name": "stdout",
          "text": [
            "Final Test Accuracy (Neural ODE): 99.67%\n"
          ]
        }
      ]
    },
    {
      "cell_type": "markdown",
      "source": [
        "## Visualization"
      ],
      "metadata": {
        "id": "Xfr6zFujlzKi"
      }
    },
    {
      "cell_type": "code",
      "source": [
        "# --- Visualize Predictions (Neural ODE) ---\n",
        "model.eval()\n",
        "with torch.no_grad():\n",
        "    test_images, test_labels = next(iter(test_loader))\n",
        "    test_images, test_labels = test_images.to(device), test_labels.to(device)\n",
        "    outputs = model(test_images)\n",
        "    _, predicted = torch.max(outputs.data, 1)\n",
        "    print(\"Visualizing Neural ODE predictions...\")\n",
        "    visualize_samples(test_loader, dataset, predicted=predicted.cpu(), num_samples = 10)"
      ],
      "metadata": {
        "colab": {
          "base_uri": "https://localhost:8080/",
          "height": 1000
        },
        "id": "zVBYvZ1boSVO",
        "outputId": "db43c73f-134c-4c39-c616-7d528045c215"
      },
      "execution_count": 831,
      "outputs": [
        {
          "output_type": "stream",
          "name": "stdout",
          "text": [
            "Visualizing Neural ODE predictions...\n",
            "torch.Size([25, 3, 32, 64])\n",
            "Visualizing 10 synthetic samples...\n"
          ]
        },
        {
          "output_type": "display_data",
          "data": {
            "text/plain": [
              "<Figure size 300x3000 with 10 Axes>"
            ],
            "image/png": "[encoded data removed]"
          },
          "metadata": {}
        }
      ]
    },
    {
      "cell_type": "code",
      "source": [
        "import matplotlib.pyplot as plt\n",
        "import seaborn as sns\n",
        "\n",
        "def visualize_interaction_matrix(A, dataset, word_indices=None):\n",
        "    \"\"\"\n",
        "    Visualizes the interaction matrix A, with an option to highlight specific word interactions.\n",
        "\n",
        "    Args:\n",
        "        A: the weight matrix\n",
        "        dataset: The TinySynthWordDataset instance.\n",
        "        word_indices: A list of word indices to highlight. If None, all word interactions are shown.\n",
        "    \"\"\"\n",
        "\n",
        "    num_hidden = A.shape[0]\n",
        "    num_words = len(dataset.words)\n",
        "\n",
        "    # Extract word-to-word interaction submatrix\n",
        "    word_interaction_matrix = A[-num_words:, -num_words:]\n",
        "\n",
        "    # Create the heatmap\n",
        "    plt.figure(figsize=(10, 8))  # Adjust figure size as needed\n",
        "    sns.heatmap(word_interaction_matrix, cmap=\"coolwarm\", annot=False,\n",
        "                xticklabels=dataset.words, yticklabels=dataset.words)\n",
        "\n",
        "    plt.title(\"Word-to-Word Weight Matrix\")\n",
        "    plt.xlabel(\"Words\")\n",
        "    plt.ylabel(\"Words\")\n",
        "    plt.show()\n",
        "\n",
        "visualize_interaction_matrix(weight_history[-1], dataset)"
      ],
      "metadata": {
        "id": "PRkAc_l3Mv_E"
      },
      "execution_count": null,
      "outputs": []
    },
    {
      "cell_type": "code",
      "source": [
        "# Generate Animation with Dynamic Scaling\n",
        "fig, ax = plt.subplots(figsize=(8, 6))\n",
        "initial_weights = weight_history[0]\n",
        "vmin, vmax = initial_weights.min(), initial_weights.max()\n",
        "im = ax.imshow(initial_weights, cmap='viridis', vmin=vmin, vmax=vmax)\n",
        "ax.set_title(\"Evolution of Weight Matrix\")\n",
        "plt.colorbar(im)\n",
        "\n",
        "def update(frame):\n",
        "    weights = weight_history[frame]\n",
        "    diff = weights #- weight_history[0]\n",
        "    im.set_data(diff)\n",
        "    im.set_clim(vmin=diff.min(), vmax=diff.max())\n",
        "    ax.set_title(f\"Weight Matrix Difference - Epoch {frame}\")\n",
        "    return [im]\n",
        "\n",
        "ani = FuncAnimation(fig, update, frames=len(weight_history), interval=500, blit=True)\n",
        "ani.save('weight_evolution_diff.mp4', writer='ffmpeg', fps=2)\n",
        "print(\"Animation saved as 'weight_evolution_diff.mp4'\")\n",
        "plt.close()"
      ],
      "metadata": {
        "colab": {
          "base_uri": "https://localhost:8080/"
        },
        "id": "rVZc91437Eww",
        "outputId": "1b02f196-0ee1-43f8-baf6-bd110eb8d317"
      },
      "execution_count": 832,
      "outputs": [
        {
          "output_type": "stream",
          "name": "stdout",
          "text": [
            "Animation saved as 'weight_evolution_diff.mp4'\n"
          ]
        }
      ]
    },
    {
      "cell_type": "code",
      "source": [
        "# Generate Animation with Dynamic Scaling\n",
        "fig, ax = plt.subplots(figsize=(8, 6))\n",
        "initial_weights = weight_history[0][-num_words:, -num_words:]\n",
        "vmin, vmax = initial_weights.min(), initial_weights.max()\n",
        "im = ax.imshow(initial_weights, cmap='viridis', vmin=vmin, vmax=vmax)\n",
        "ax.set_title(\"Evolution of SimpleODEFunc Weight Matrix\")\n",
        "plt.colorbar(im)\n",
        "\n",
        "def update(frame):\n",
        "    weights = weight_history[frame][-num_words:, -num_words:]\n",
        "    diff = weights #- weight_history[0]\n",
        "    im.set_data(diff)\n",
        "    im.set_clim(vmin=diff.min(), vmax=diff.max())\n",
        "    ax.set_title(f\"Weight Matrix Between Words - Epoch {frame}\")\n",
        "    return [im]\n",
        "\n",
        "ani = FuncAnimation(fig, update, frames=len(weight_history), interval=500, blit=True)\n",
        "ani.save('weight_evolution_words.mp4', writer='ffmpeg', fps=2)\n",
        "print(\"Animation saved as 'weight_evolution_words.mp4'\")\n",
        "plt.close()"
      ],
      "metadata": {
        "colab": {
          "base_uri": "https://localhost:8080/"
        },
        "id": "yZJfGEgz8bz-",
        "outputId": "c9ab1dc6-6110-4263-87a0-41ed50890df4"
      },
      "execution_count": 833,
      "outputs": [
        {
          "output_type": "stream",
          "name": "stdout",
          "text": [
            "Animation saved as 'weight_evolution_words.mp4'\n"
          ]
        }
      ]
    },
    {
      "cell_type": "code",
      "source": [
        "import matplotlib.pyplot as plt\n",
        "from matplotlib.animation import FuncAnimation\n",
        "import numpy as np\n",
        "\n",
        "# Assume weight_history, dataset, and num_words are defined\n",
        "fig, ax = plt.subplots(figsize=(8, 6))\n",
        "initial_weights = weight_history[0][-num_words:, -num_words:]\n",
        "vmin, vmax = initial_weights.min(), initial_weights.max()\n",
        "\n",
        "# Create the initial imshow plot with coolwarm colormap\n",
        "im = ax.imshow(initial_weights, cmap='coolwarm', vmin=vmin, vmax=vmax)\n",
        "\n",
        "# Set word labels on x and y ticks\n",
        "ax.set_xticks(np.arange(num_words))  # Set tick positions\n",
        "ax.set_yticks(np.arange(num_words))\n",
        "ax.set_xticklabels(dataset.words, rotation=45, ha='right')  # Rotate for readability\n",
        "ax.set_yticklabels(dataset.words)\n",
        "ax.set_title(\"Evolution of SimpleODEFunc Weight Matrix\")\n",
        "plt.colorbar(im)\n",
        "\n",
        "def update(frame):\n",
        "    weights = weight_history[frame][-num_words:, -num_words:]\n",
        "    im.set_data(weights)  # Update the data\n",
        "    im.set_clim(vmin=weights.min(), vmax=weights.max())  # Dynamic scaling\n",
        "    ax.set_title(f\"Weight Matrix Between Words - Epoch {frame}\")\n",
        "    # No need to reset ticks/ticklabels here; they persist\n",
        "    return [im]\n",
        "\n",
        "# Create and save the animation\n",
        "ani = FuncAnimation(fig, update, frames=len(weight_history), interval=500, blit=True)\n",
        "ani.save('weight_evolution_words.mp4', writer='ffmpeg', fps=2)\n",
        "print(\"Animation saved as 'weight_evolution_words.mp4'\")\n",
        "plt.close()"
      ],
      "metadata": {
        "id": "PLcHtmaNQr3W"
      },
      "execution_count": null,
      "outputs": []
    },
    {
      "cell_type": "code",
      "source": [
        "import torch\n",
        "import torch.nn as nn\n",
        "from torchdiffeq import odeint\n",
        "import matplotlib.pyplot as plt\n",
        "import numpy as np\n",
        "from PIL import Image\n",
        "\n",
        "# Assuming model, dataset, and device are defined\n",
        "model.eval()\n",
        "\n",
        "# Debug dataset\n",
        "print(\"Dataset words:\", dataset.words[:5], \"...\")  # Should start with [\"the\", \"of\", \"to\", ...]\n",
        "#print(\"Label map for 'there':\", dataset.label_map[\"there\"])  # Should be 40\n",
        "print(\"Number of images:\", len(dataset.images))\n",
        "print(\"Number of labels:\", len(dataset.labels))\n",
        "\n",
        "# Prepare input for target word \"to\"\n",
        "target_word = \"the\"\n",
        "word_index = dataset.words.index(target_word)\n",
        "print(f\"Target word: {target_word}, Word index: {word_index}\")\n",
        "\n",
        "# Fetch an image explicitly by searching for the correct label\n",
        "found = False\n",
        "for idx in range(len(dataset)):\n",
        "    img, label = dataset[idx]\n",
        "    if label == dataset.label_map[target_word]:\n",
        "        input_tensor = img.unsqueeze(0).to(device)  # (1, 1, 64, 32)\n",
        "        print(f\"Found image at index {idx} with label {label}\")\n",
        "        found = True\n",
        "        break\n",
        "if not found:\n",
        "    raise ValueError(f\"No image found for {target_word}\")\n",
        "\n",
        "# Define integration time (20 points)\n",
        "integration_time = torch.linspace(0, 1.0, 20, device=device, dtype=input_tensor.dtype)\n",
        "\n",
        "# Forward pass\n",
        "with torch.no_grad():\n",
        "    trajectory = model(input_tensor, return_all=True)  # (20, 1, num_words)\n",
        "\n",
        "# Extract word activations, convert to NumPy, define time points\n",
        "activations = trajectory[:, 0, :].cpu().numpy()  # (20, num_words)\n",
        "time_points = integration_time.cpu().numpy()  # (20,)\n",
        "\n",
        "# Select word output units of interest\n",
        "words_of_interest = [target_word] + [\"to\", \"of\"]\n",
        "indices_of_interest = [dataset.words.index(word) for word in words_of_interest]\n",
        "\n",
        "# Create plot with inset\n",
        "fig = plt.figure(figsize=(10, 6))\n",
        "ax_main = fig.add_subplot(111)\n",
        "\n",
        "# Plot activation timecourse\n",
        "for i, (word, windex) in enumerate(zip(words_of_interest, indices_of_interest)):\n",
        "    print(f\"Plotting word '{word}' at index {windex} with label {dataset.label_map[word]} in the dataset\")\n",
        "    ax_main.plot(time_points, activations[:, windex], label=word, linewidth=1.5)\n",
        "ax_main.set_xlabel(\"Time\")\n",
        "ax_main.set_ylabel(\"Activation\")\n",
        "ax_main.set_title(f\"Activation Timecourse for Input '{target_word}'\")\n",
        "ax_main.legend()\n",
        "ax_main.grid(True)\n",
        "\n",
        "# Inset for input_tensor\n",
        "ax_inset = fig.add_axes([0.65, 0.65, 0.25, 0.25])  # Top-right\n",
        "input_img = input_tensor[0, 0].cpu().numpy()  # (64, 32), grayscale\n",
        "ax_inset.imshow(input_img, cmap='gray')\n",
        "ax_inset.axis('off')\n",
        "ax_inset.set_title(f\"Input: '{target_word}'\", fontsize=10)\n",
        "\n",
        "plt.tight_layout()\n",
        "plt.show()\n",
        "\n",
        "# Debug final activations\n",
        "#print(\"Final activations:\", activations[-1, :])\n",
        "#print(\"Softmax probabilities:\", np.exp(activations[-1, :]) / np.sum(np.exp(activations[-1, :])))"
      ],
      "metadata": {
        "colab": {
          "base_uri": "https://localhost:8080/",
          "height": 791
        },
        "id": "TGHHzjILukcm",
        "outputId": "51f6846f-f621-4dc7-eacb-1650ddf78eb3"
      },
      "execution_count": 836,
      "outputs": [
        {
          "output_type": "stream",
          "name": "stdout",
          "text": [
            "Dataset words: ['the', 'of', 'to', 'and', 'a'] ...\n",
            "Number of images: 3000\n",
            "Number of labels: 3000\n",
            "Target word: the, Word index: 0\n",
            "Found image at index 0 with label 0\n",
            "Plotting word 'the' at index 0 with label 0 in the dataset\n",
            "Plotting word 'to' at index 2 with label 2 in the dataset\n",
            "Plotting word 'of' at index 1 with label 1 in the dataset\n"
          ]
        },
        {
          "output_type": "stream",
          "name": "stderr",
          "text": [
            "<ipython-input-836-3e603b79379e>:70: UserWarning: This figure includes Axes that are not compatible with tight_layout, so results might be incorrect.\n",
            "  plt.tight_layout()\n"
          ]
        },
        {
          "output_type": "display_data",
          "data": {
            "text/plain": [
              "<Figure size 1000x600 with 2 Axes>"
            ],
            "image/png": "[encoded data removed]"
          },
          "metadata": {}
        }
      ]
    }
  ]
}